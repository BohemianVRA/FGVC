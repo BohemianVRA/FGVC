{
 "cells": [
  {
   "cell_type": "markdown",
   "metadata": {},
   "source": [
    "### Imports and Jupyter setup"
   ]
  },
  {
   "cell_type": "code",
   "execution_count": 1,
   "metadata": {},
   "outputs": [
    {
     "data": {
      "text/plain": [
       "device(type='cuda')"
      ]
     },
     "execution_count": 1,
     "metadata": {},
     "output_type": "execute_result"
    }
   ],
   "source": [
    "%load_ext autoreload\n",
    "%autoreload 2\n",
    "\n",
    "import os\n",
    "import time\n",
    "import tqdm\n",
    "import torch\n",
    "import wandb\n",
    "import numpy as np\n",
    "import pandas as pd\n",
    "import torch.nn as nn\n",
    "\n",
    "from torch.utils.data import DataLoader\n",
    "from torch.optim.lr_scheduler import ReduceLROnPlateau\n",
    "from timm.scheduler import CosineLRScheduler\n",
    "from sklearn.metrics import f1_score, accuracy_score, top_k_accuracy_score\n",
    "\n",
    "os.environ[\"CUDA_VISIBLE_DEVICES\"]=\"0\"\n",
    "device = torch.device('cuda' if torch.cuda.is_available() else 'cpu')\n",
    "pd.set_option('display.max_columns', None)\n",
    "device"
   ]
  },
  {
   "cell_type": "markdown",
   "metadata": {},
   "source": [
    "### Custom Imports"
   ]
  },
  {
   "cell_type": "code",
   "execution_count": 2,
   "metadata": {},
   "outputs": [],
   "source": [
    "from fgvc.utils.datasets import TrainDataset\n",
    "from fgvc.utils.augmentations import test_transforms\n",
    "# from fgvc.utils.utils import timer, init_logger, , \n",
    "\n",
    "from fgvc.utils.utils import timer, init_logger, seed_everything, getModel"
   ]
  },
  {
   "cell_type": "code",
   "execution_count": 3,
   "metadata": {},
   "outputs": [
    {
     "name": "stdout",
     "output_type": "stream",
     "text": [
      "Thu Apr 28 16:24:33 2022       \n",
      "+-----------------------------------------------------------------------------+\n",
      "| NVIDIA-SMI 460.91.03    Driver Version: 460.91.03    CUDA Version: 11.2     |\n",
      "|-------------------------------+----------------------+----------------------+\n",
      "| GPU  Name        Persistence-M| Bus-Id        Disp.A | Volatile Uncorr. ECC |\n",
      "| Fan  Temp  Perf  Pwr:Usage/Cap|         Memory-Usage | GPU-Util  Compute M. |\n",
      "|                               |                      |               MIG M. |\n",
      "|===============================+======================+======================|\n",
      "|   0  GeForce RTX 207...  Off  | 00000000:09:00.0 Off |                  N/A |\n",
      "| 25%   31C    P8     5W / 215W |    277MiB /  7974MiB |      0%      Default |\n",
      "|                               |                      |                  N/A |\n",
      "+-------------------------------+----------------------+----------------------+\n",
      "|   1  GeForce GTX 1080    Off  | 00000000:0A:00.0 Off |                  N/A |\n",
      "| 38%   68C    P2   188W / 180W |   1278MiB /  8119MiB |     92%      Default |\n",
      "|                               |                      |                  N/A |\n",
      "+-------------------------------+----------------------+----------------------+\n",
      "                                                                               \n",
      "+-----------------------------------------------------------------------------+\n",
      "| Processes:                                                                  |\n",
      "|  GPU   GI   CI        PID   Type   Process name                  GPU Memory |\n",
      "|        ID   ID                                                   Usage      |\n",
      "|=============================================================================|\n",
      "+-----------------------------------------------------------------------------+\n"
     ]
    }
   ],
   "source": [
    "!nvidia-smi"
   ]
  },
  {
   "cell_type": "markdown",
   "metadata": {},
   "source": [
    "### Load Dataset Metadata"
   ]
  },
  {
   "cell_type": "code",
   "execution_count": 4,
   "metadata": {},
   "outputs": [
    {
     "name": "stdout",
     "output_type": "stream",
     "text": [
      "Number of samples in PlantCLEF2017_test: 25170\n",
      "Number of samples in PlantCLEF2018_test: 6892\n",
      "Number of samples in PlantCLEF2018_expert_test: 216\n"
     ]
    },
    {
     "name": "stderr",
     "output_type": "stream",
     "text": [
      "/tmp/ipykernel_2581464/1957022668.py:2: DtypeWarning: Columns (15,16,17,19,22) have mixed types. Specify dtype option on import or set low_memory=False.\n",
      "  val_metadata = pd.read_csv(\"../../metadata/PlantCLEF2018_val_metadata.csv\")\n"
     ]
    }
   ],
   "source": [
    "train_metadata = pd.read_csv(\"../../metadata/PlantCLEF2018_train_metadata.csv\")\n",
    "val_metadata = pd.read_csv(\"../../metadata/PlantCLEF2018_val_metadata.csv\")\n",
    "\n",
    "\n",
    "PlantCLEF2017_test = pd.read_csv(\"../../metadata/PlantCLEF2017_test_metadata.csv\")\n",
    "PlantCLEF2018_test = pd.read_csv(\"../../metadata/PlantCLEF2018_test_metadata.csv\")\n",
    "\n",
    "\n",
    "expert_subset = pd.read_csv(\"../../metadata/MediaId_ObservationId_ManVsMachineSubPart_ExpertCLEF2018.csv\", sep=';', names=['MediaId', 'ObservationId'])\n",
    "expert_subset = PlantCLEF2018_test[PlantCLEF2018_test['MediaId'].isin(expert_subset.MediaId)].reset_index().drop(columns=['index'])\n",
    "\n",
    "print(f'Number of samples in PlantCLEF2017_test: {len(PlantCLEF2017_test)}')\n",
    "print(f'Number of samples in PlantCLEF2018_test: {len(PlantCLEF2018_test)}')\n",
    "print(f'Number of samples in PlantCLEF2018_expert_test: {len(expert_subset)}')"
   ]
  },
  {
   "cell_type": "code",
   "execution_count": 5,
   "metadata": {},
   "outputs": [],
   "source": [
    "PlantCLEF2017_test['image_path'] = PlantCLEF2017_test['image_path'].apply(lambda x: x.replace('/local/nahouby/Datasets/PlantCLEF/', '/Projects/Data/'))\n",
    "PlantCLEF2018_test['image_path'] = PlantCLEF2018_test['image_path'].apply(lambda x: x.replace('/local/nahouby/Datasets/PlantCLEF/', '/Projects/Data/'))\n",
    "expert_subset['image_path'] = expert_subset['image_path'].apply(lambda x: x.replace('/local/nahouby/Datasets/PlantCLEF/', '/Projects/Data/'))"
   ]
  },
  {
   "cell_type": "markdown",
   "metadata": {},
   "source": [
    "### Training Parameters"
   ]
  },
  {
   "cell_type": "code",
   "execution_count": 6,
   "metadata": {},
   "outputs": [],
   "source": [
    "# Adjust BATCH_SIZE and ACCUMULATION_STEPS to values that if multiplied results in 64 !!!!!1\n",
    "\n",
    "config = {\"augmentations\": 'light',\n",
    "           \"optimizer\": 'SGD',\n",
    "           \"scheduler\": 'plateau',\n",
    "           \"image_size\": (224, 224),\n",
    "           \"random_seed\": 777,\n",
    "           \"number_of_classes\": len(train_metadata['class_id'].unique()),\n",
    "           \"architecture\": 'vit_base_patch16_224',\n",
    "           \"batch_size\": 16,\n",
    "           \"accumulation_steps\": 8,\n",
    "           \"epochs\": 100,\n",
    "           \"learning_rate\": 0.01,\n",
    "           \"dataset\": 'PlantCLEF2018',\n",
    "           \"loss\": 'CrossEntropyLoss',\n",
    "           \"training_samples\": len(train_metadata),\n",
    "           \"valid_samples\": len(val_metadata),\n",
    "           \"workers\": 12,\n",
    "           }\n",
    "\n",
    "\n",
    "RUN_NAME = f\"{config['architecture']}-{config['optimizer']}-{config['scheduler']}-{config['augmentations']}\""
   ]
  },
  {
   "cell_type": "markdown",
   "metadata": {},
   "source": [
    "### Fix Seeds"
   ]
  },
  {
   "cell_type": "code",
   "execution_count": 7,
   "metadata": {},
   "outputs": [],
   "source": [
    "seed_everything(config['random_seed'])"
   ]
  },
  {
   "cell_type": "markdown",
   "metadata": {},
   "source": [
    "### Init Model"
   ]
  },
  {
   "cell_type": "code",
   "execution_count": 8,
   "metadata": {},
   "outputs": [
    {
     "data": {
      "text/plain": [
       "<All keys matched successfully>"
      ]
     },
     "execution_count": 8,
     "metadata": {},
     "output_type": "execute_result"
    }
   ],
   "source": [
    "# %%\n",
    "model = getModel(config['architecture'], config['number_of_classes'], pretrained=True)\n",
    "model_mean = list(model.default_cfg['mean'])\n",
    "model_std = list(model.default_cfg['std'])\n",
    "\n",
    "model.load_state_dict(torch.load('./vit_base_patch16_224-SGD-plateau-light-100E.pth'))"
   ]
  },
  {
   "cell_type": "code",
   "execution_count": 9,
   "metadata": {},
   "outputs": [],
   "source": [
    "# Adjust BATCH_SIZE and ACCUMULATION_STEPS to values that if multiplied results in 64 !!!!!1\n",
    "\n",
    "vanilla_augmentations = test_transforms(data='vanilla', image_size=config['image_size'], mean=model_mean, std=model_std)    \n",
    "crop_augmentations = test_transforms(data='center_crop', image_size=config['image_size'], mean=model_mean, std=model_std)    \n",
    "\n",
    "PlantCLEF2017_test_dataset_vanilla = TrainDataset(PlantCLEF2017_test, transform=vanilla_augmentations)\n",
    "PlantCLEF2017_test_dataset_crop = TrainDataset(PlantCLEF2017_test, transform=crop_augmentations)\n",
    "\n",
    "PlantCLEF2018_test_dataset_vanilla = TrainDataset(PlantCLEF2018_test, transform=vanilla_augmentations)\n",
    "PlantCLEF2018_test_dataset_crop = TrainDataset(PlantCLEF2018_test, transform=crop_augmentations)\n",
    "\n",
    "expert_test_dataset_vanilla = TrainDataset(expert_subset, transform=vanilla_augmentations)\n",
    "expert_test_dataset_crop = TrainDataset(expert_subset, transform=crop_augmentations)\n",
    "\n",
    "\n",
    "\n",
    "\n",
    "PlantCLEF2017_test_loader_vanilla = DataLoader(PlantCLEF2017_test_dataset_vanilla, \n",
    "                                               batch_size=config['batch_size'], \n",
    "                                               shuffle=False, \n",
    "                                               num_workers=config['workers'])\n",
    "\n",
    "PlantCLEF2017_test_loader_crop = DataLoader(PlantCLEF2017_test_dataset_crop, \n",
    "                                               batch_size=config['batch_size'], \n",
    "                                               shuffle=False, \n",
    "                                               num_workers=config['workers'])\n",
    "\n",
    "\n",
    "\n",
    "PlantCLEF2018_test_loader_vanilla = DataLoader(PlantCLEF2018_test_dataset_vanilla, \n",
    "                                               batch_size=config['batch_size'], \n",
    "                                               shuffle=False, \n",
    "                                               num_workers=config['workers'])\n",
    "\n",
    "PlantCLEF2018_test_loader_crop = DataLoader(PlantCLEF2018_test_dataset_crop, \n",
    "                                               batch_size=config['batch_size'], \n",
    "                                               shuffle=False, \n",
    "                                               num_workers=config['workers'])\n",
    "\n",
    "\n",
    "expert_test_loader_vanilla = DataLoader(expert_test_dataset_vanilla, \n",
    "                                               batch_size=config['batch_size'], \n",
    "                                               shuffle=False, \n",
    "                                               num_workers=config['workers'])\n",
    "\n",
    "expert_test_loader_crop = DataLoader(expert_test_dataset_crop, \n",
    "                                               batch_size=config['batch_size'], \n",
    "                                               shuffle=False, \n",
    "                                               num_workers=config['workers'])"
   ]
  },
  {
   "cell_type": "code",
   "execution_count": 10,
   "metadata": {},
   "outputs": [
    {
     "name": "stdout",
     "output_type": "stream",
     "text": [
      "Model Loaded and set to Eval mode.\n"
     ]
    }
   ],
   "source": [
    "model.to(device)\n",
    "model.eval()\n",
    "\n",
    "print(f'Model Loaded and set to Eval mode.')"
   ]
  },
  {
   "cell_type": "code",
   "execution_count": 11,
   "metadata": {},
   "outputs": [],
   "source": [
    "from fgvc.utils.performance import test_loop "
   ]
  },
  {
   "cell_type": "markdown",
   "metadata": {},
   "source": [
    "###  PlantCLEF 2017"
   ]
  },
  {
   "cell_type": "code",
   "execution_count": 12,
   "metadata": {},
   "outputs": [
    {
     "name": "stderr",
     "output_type": "stream",
     "text": [
      "100%|█████████████████████████████████████████████████████████████████████████████████████████████████████████████████████████████████████████████████████████████████████████████████████████████████████| 1574/1574 [02:34<00:00, 10.17it/s]\n",
      "100%|█████████████████████████████████████████████████████████████████████████████████████████████████████████████████████████████████████████████████████████████████████████████████████████████████████| 1574/1574 [02:35<00:00, 10.10it/s]\n"
     ]
    }
   ],
   "source": [
    "vanilla_accuracy, vanilla_max_logit_obs_acc, vanilla_mean_softmax_obs_acc = test_loop(PlantCLEF2017_test, PlantCLEF2017_test_loader_vanilla, model, device)\n",
    "crop_accuracy, crop_max_logit_obs_acc, crop_mean_softmax_obs_acc = test_loop(PlantCLEF2017_test, PlantCLEF2017_test_loader_crop, model, device)"
   ]
  },
  {
   "cell_type": "code",
   "execution_count": 13,
   "metadata": {},
   "outputs": [
    {
     "name": "stdout",
     "output_type": "stream",
     "text": [
      "Vanilla Accuracy: 76.08\n",
      "Vanilla Obs. Accuracy (max logit): 82.48\n",
      "Vanila Obs. Accuracy (mean softmax): 83.22\n",
      "------------------------------------\n",
      "Crop Accuracy: 70.97\n",
      "Crop Obs. Accuracy (max logit): 79.18\n",
      "Crop Obs. Accuracy (mean softmax): 80.21\n"
     ]
    }
   ],
   "source": [
    "print('Vanilla Accuracy:', np.round(vanilla_accuracy * 100, 2))\n",
    "print('Vanilla Obs. Accuracy (max logit):', np.round(vanilla_max_logit_obs_acc * 100, 2))\n",
    "print('Vanila Obs. Accuracy (mean softmax):', np.round(vanilla_mean_softmax_obs_acc * 100, 2))\n",
    "print('------------------------------------')\n",
    "print('Crop Accuracy:', np.round(crop_accuracy * 100, 2))\n",
    "print('Crop Obs. Accuracy (max logit):', np.round(crop_max_logit_obs_acc * 100, 2))\n",
    "print('Crop Obs. Accuracy (mean softmax):', np.round(crop_mean_softmax_obs_acc * 100, 2))"
   ]
  },
  {
   "cell_type": "markdown",
   "metadata": {},
   "source": [
    "### PlantCLEF 2018"
   ]
  },
  {
   "cell_type": "code",
   "execution_count": 14,
   "metadata": {},
   "outputs": [
    {
     "name": "stderr",
     "output_type": "stream",
     "text": [
      "100%|███████████████████████████████████████████████████████████████████████████████████████████████████████████████████████████████████████████████████████████████████████████████████████████████████████| 431/431 [00:42<00:00, 10.11it/s]\n",
      "100%|███████████████████████████████████████████████████████████████████████████████████████████████████████████████████████████████████████████████████████████████████████████████████████████████████████| 431/431 [00:42<00:00, 10.10it/s]\n"
     ]
    }
   ],
   "source": [
    "vanilla_accuracy, vanilla_max_logit_obs_acc, vanilla_mean_softmax_obs_acc = test_loop(PlantCLEF2018_test, PlantCLEF2018_test_loader_vanilla, model, device)\n",
    "crop_accuracy, crop_max_logit_obs_acc, crop_mean_softmax_obs_acc = test_loop(PlantCLEF2018_test, PlantCLEF2018_test_loader_crop, model, device)"
   ]
  },
  {
   "cell_type": "code",
   "execution_count": 15,
   "metadata": {},
   "outputs": [
    {
     "name": "stdout",
     "output_type": "stream",
     "text": [
      "Vanilla Accuracy: 51.99\n",
      "Vanilla Obs. Accuracy (max logit): 69.74\n",
      "Vanila Obs. Accuracy (mean softmax): 74.03\n",
      "------------------------------------\n",
      "Crop Accuracy: 37.36\n",
      "Crop Obs. Accuracy (max logit): 60.71\n",
      "Crop Obs. Accuracy (mean softmax): 64.38\n"
     ]
    }
   ],
   "source": [
    "print('Vanilla Accuracy:', np.round(vanilla_accuracy * 100, 2))\n",
    "print('Vanilla Obs. Accuracy (max logit):', np.round(vanilla_max_logit_obs_acc * 100, 2))\n",
    "print('Vanila Obs. Accuracy (mean softmax):', np.round(vanilla_mean_softmax_obs_acc * 100, 2))\n",
    "print('------------------------------------')\n",
    "print('Crop Accuracy:', np.round(crop_accuracy * 100, 2))\n",
    "print('Crop Obs. Accuracy (max logit):', np.round(crop_max_logit_obs_acc * 100, 2))\n",
    "print('Crop Obs. Accuracy (mean softmax):', np.round(crop_mean_softmax_obs_acc * 100, 2))"
   ]
  },
  {
   "cell_type": "markdown",
   "metadata": {},
   "source": [
    "### PlantCLEF 2018 - Experts"
   ]
  },
  {
   "cell_type": "code",
   "execution_count": 16,
   "metadata": {},
   "outputs": [
    {
     "name": "stderr",
     "output_type": "stream",
     "text": [
      "100%|█████████████████████████████████████████████████████████████████████████████████████████████████████████████████████████████████████████████████████████████████████████████████████████████████████████| 14/14 [00:01<00:00,  8.69it/s]\n",
      "100%|█████████████████████████████████████████████████████████████████████████████████████████████████████████████████████████████████████████████████████████████████████████████████████████████████████████| 14/14 [00:01<00:00,  8.86it/s]\n"
     ]
    }
   ],
   "source": [
    "vanilla_accuracy, vanilla_max_logit_obs_acc, vanilla_mean_softmax_obs_acc = test_loop(expert_subset, expert_test_loader_vanilla, model, device)\n",
    "crop_accuracy, crop_max_logit_obs_acc, crop_mean_softmax_obs_acc = test_loop(expert_subset, expert_test_loader_crop, model, device)"
   ]
  },
  {
   "cell_type": "code",
   "execution_count": 17,
   "metadata": {},
   "outputs": [
    {
     "name": "stdout",
     "output_type": "stream",
     "text": [
      "Vanilla Accuracy: 40.74\n",
      "Vanilla Obs. Accuracy (max logit): 60.0\n",
      "Vanila Obs. Accuracy (mean softmax): 64.0\n",
      "------------------------------------\n",
      "Crop Accuracy: 39.81\n",
      "Crop Obs. Accuracy (max logit): 52.0\n",
      "Crop Obs. Accuracy (mean softmax): 60.0\n"
     ]
    }
   ],
   "source": [
    "print('Vanilla Accuracy:', np.round(vanilla_accuracy * 100, 2))\n",
    "print('Vanilla Obs. Accuracy (max logit):', np.round(vanilla_max_logit_obs_acc * 100, 2))\n",
    "print('Vanila Obs. Accuracy (mean softmax):', np.round(vanilla_mean_softmax_obs_acc * 100, 2))\n",
    "print('------------------------------------')\n",
    "print('Crop Accuracy:', np.round(crop_accuracy * 100, 2))\n",
    "print('Crop Obs. Accuracy (max logit):', np.round(crop_max_logit_obs_acc * 100, 2))\n",
    "print('Crop Obs. Accuracy (mean softmax):', np.round(crop_mean_softmax_obs_acc * 100, 2))"
   ]
  },
  {
   "cell_type": "code",
   "execution_count": null,
   "metadata": {},
   "outputs": [],
   "source": []
  }
 ],
 "metadata": {
  "kernelspec": {
   "display_name": "Python 3 (ipykernel)",
   "language": "python",
   "name": "python3"
  },
  "language_info": {
   "codemirror_mode": {
    "name": "ipython",
    "version": 3
   },
   "file_extension": ".py",
   "mimetype": "text/x-python",
   "name": "python",
   "nbconvert_exporter": "python",
   "pygments_lexer": "ipython3",
   "version": "3.8.12"
  }
 },
 "nbformat": 4,
 "nbformat_minor": 4
}
