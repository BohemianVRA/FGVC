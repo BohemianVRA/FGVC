{
 "cells": [
  {
   "cell_type": "markdown",
   "metadata": {},
   "source": [
    "### Imports and Jupyter setup"
   ]
  },
  {
   "cell_type": "code",
   "execution_count": null,
   "metadata": {},
   "outputs": [],
   "source": [
    "%load_ext autoreload\n",
    "%autoreload 2\n",
    "\n",
    "import os\n",
    "import time\n",
    "import tqdm\n",
    "import torch\n",
    "import wandb\n",
    "import numpy as np\n",
    "import pandas as pd\n",
    "import torch.nn as nn\n",
    "\n",
    "from torch.utils.data import DataLoader\n",
    "from torch.optim.lr_scheduler import ReduceLROnPlateau\n",
    "from timm.scheduler import CosineLRScheduler\n",
    "from sklearn.metrics import f1_score, accuracy_score, top_k_accuracy_score\n",
    "\n",
    "os.environ[\"CUDA_VISIBLE_DEVICES\"]=\"0\"\n",
    "device = torch.device('cuda' if torch.cuda.is_available() else 'cpu')\n",
    "pd.set_option('display.max_columns', None)\n",
    "device"
   ]
  },
  {
   "cell_type": "markdown",
   "metadata": {},
   "source": [
    "### Custom Imports"
   ]
  },
  {
   "cell_type": "code",
   "execution_count": null,
   "metadata": {},
   "outputs": [],
   "source": [
    "from fgvc.utils.datasets import TrainDataset\n",
    "from fgvc.utils.augmentations import test_transforms\n",
    "# from fgvc.utils.utils import timer, init_logger, , \n",
    "\n",
    "from fgvc.utils.utils import timer, init_logger, seed_everything, getModel"
   ]
  },
  {
   "cell_type": "code",
   "execution_count": null,
   "metadata": {},
   "outputs": [],
   "source": [
    "!nvidia-smi"
   ]
  },
  {
   "cell_type": "markdown",
   "metadata": {},
   "source": [
    "### Load Dataset Metadata"
   ]
  },
  {
   "cell_type": "code",
   "execution_count": null,
   "metadata": {},
   "outputs": [],
   "source": [
    "train_metadata = pd.read_csv(\"../../metadata/PlantCLEF2018_train_metadata.csv\")\n",
    "val_metadata = pd.read_csv(\"../../metadata/PlantCLEF2018_val_metadata.csv\")\n",
    "\n",
    "\n",
    "PlantCLEF2017_test = pd.read_csv(\"../../metadata/PlantCLEF2017_test_metadata.csv\")\n",
    "PlantCLEF2018_test = pd.read_csv(\"../../metadata/PlantCLEF2018_test_metadata.csv\")\n",
    "\n",
    "print(f'Number of samples in PlantCLEF2017_test: {len(PlantCLEF2017_test)}')\n",
    "print(f'Number of samples in PlantCLEF2017_test: {len(PlantCLEF2018_test)}')"
   ]
  },
  {
   "cell_type": "code",
   "execution_count": null,
   "metadata": {},
   "outputs": [],
   "source": [
    "PlantCLEF2017_test['image_path'] = PlantCLEF2017_test['image_path'].apply(lambda x: x.replace('/local/nahouby/Datasets/PlantCLEF/', '/Data-10T/PlantCLEF/'))\n",
    "PlantCLEF2017_test['image_path'] = PlantCLEF2017_test['image_path'].apply(lambda x: x.replace('/local/nahouby/Datasets/PlantCLEF/', '/Data-10T/PlantCLEF/'))\n",
    "\n",
    "PlantCLEF2018_test['image_path'] = PlantCLEF2018_test['image_path'].apply(lambda x: x.replace('/local/nahouby/Datasets/PlantCLEF/', '/Data-10T/PlantCLEF/'))\n",
    "PlantCLEF2018_test['image_path'] = PlantCLEF2018_test['image_path'].apply(lambda x: x.replace('/local/nahouby/Datasets/PlantCLEF/', '/Data-10T/PlantCLEF/'))"
   ]
  },
  {
   "cell_type": "markdown",
   "metadata": {},
   "source": [
    "### Training Parameters"
   ]
  },
  {
   "cell_type": "code",
   "execution_count": null,
   "metadata": {},
   "outputs": [],
   "source": [
    "# Adjust BATCH_SIZE and ACCUMULATION_STEPS to values that if multiplied results in 64 !!!!!1\n",
    "\n",
    "config = {\"augmentations\": 'light-random_crop',\n",
    "           \"optimizer\": 'SGD',\n",
    "           \"scheduler\": 'cyclic_cosine',\n",
    "           \"image_size\": (224, 224),\n",
    "           \"random_seed\": 777,\n",
    "           \"number_of_classes\": len(train_metadata['class_id'].unique()),\n",
    "           \"architecture\": 'vit_base_patch32_224',\n",
    "           \"batch_size\": 32,\n",
    "           \"accumulation_steps\": 4,\n",
    "           \"epochs\": 100,\n",
    "           \"learning_rate\": 0.01,\n",
    "           \"dataset\": 'PlantCLEF2018',\n",
    "           \"loss\": 'CrossEntropyLoss',\n",
    "           \"training_samples\": len(train_metadata),\n",
    "           \"valid_samples\": len(val_metadata),\n",
    "           \"workers\": 12,\n",
    "           }\n",
    "\n",
    "RUN_NAME = f\"{config['architecture']}-{config['optimizer']}-{config['scheduler']}-{config['augmentations']}\""
   ]
  },
  {
   "cell_type": "markdown",
   "metadata": {},
   "source": [
    "### Fix Seeds & Log Setup"
   ]
  },
  {
   "cell_type": "code",
   "execution_count": null,
   "metadata": {},
   "outputs": [],
   "source": [
    "LOG_FILE = f'{RUN_NAME}.log'\n",
    "LOGGER = init_logger(LOG_FILE)\n",
    "\n",
    "seed_everything(config['random_seed'])"
   ]
  },
  {
   "cell_type": "markdown",
   "metadata": {},
   "source": [
    "### Init Model"
   ]
  },
  {
   "cell_type": "code",
   "execution_count": null,
   "metadata": {},
   "outputs": [],
   "source": [
    "# %%\n",
    "model = getModel(config['architecture'], config['number_of_classes'], pretrained=True)\n",
    "model_mean = list(model.default_cfg['mean'])\n",
    "model_std = list(model.default_cfg['std'])\n",
    "\n",
    "model.load_state_dict(torch.load('./vit_base_patch32_224-SGD-cyclic_cosine-light-random_crop-100E.pth'))"
   ]
  },
  {
   "cell_type": "code",
   "execution_count": null,
   "metadata": {},
   "outputs": [],
   "source": [
    "# Adjust BATCH_SIZE and ACCUMULATION_STEPS to values that if multiplied results in 64 !!!!!1\n",
    "\n",
    "vanilla_augmentations = test_transforms(data='vanilla', image_size=config['image_size'], mean=model_mean, std=model_std)    \n",
    "crop_augmentations = test_transforms(data='center_crop', image_size=config['image_size'], mean=model_mean, std=model_std)    \n",
    "\n",
    "PlantCLEF2017_test_dataset_vanilla = TrainDataset(PlantCLEF2017_test, transform=vanilla_augmentations)\n",
    "PlantCLEF2017_test_dataset_crop = TrainDataset(PlantCLEF2017_test, transform=crop_augmentations)\n",
    "\n",
    "PlantCLEF2018_test_dataset_vanilla = TrainDataset(PlantCLEF2018_test, transform=vanilla_augmentations)\n",
    "PlantCLEF2018_test_dataset_crop = TrainDataset(PlantCLEF2018_test, transform=crop_augmentations)\n",
    "\n",
    "PlantCLEF2017_test_loader_vanilla = DataLoader(PlantCLEF2017_test_dataset_vanilla, \n",
    "                                               batch_size=config['batch_size'], \n",
    "                                               shuffle=False, \n",
    "                                               num_workers=config['workers'])\n",
    "\n",
    "PlantCLEF2017_test_loader_crop = DataLoader(PlantCLEF2017_test_dataset_crop, \n",
    "                                               batch_size=config['batch_size'], \n",
    "                                               shuffle=False, \n",
    "                                               num_workers=config['workers'])\n",
    "\n",
    "PlantCLEF2018_test_loader_vanilla = DataLoader(PlantCLEF2018_test_dataset_vanilla, \n",
    "                                               batch_size=config['batch_size'], \n",
    "                                               shuffle=False, \n",
    "                                               num_workers=config['workers'])\n",
    "\n",
    "PlantCLEF2018_test_loader_crop = DataLoader(PlantCLEF2018_test_dataset_crop, \n",
    "                                               batch_size=config['batch_size'], \n",
    "                                               shuffle=False, \n",
    "                                               num_workers=config['workers'])"
   ]
  },
  {
   "cell_type": "markdown",
   "metadata": {},
   "source": [
    "### Vanilla 2017"
   ]
  },
  {
   "cell_type": "code",
   "execution_count": null,
   "metadata": {},
   "outputs": [],
   "source": [
    "timecek = time.time()\n",
    "\n",
    "model.to(device)\n",
    "model.eval()\n",
    "\n",
    "preds = np.zeros((len(PlantCLEF2017_test)))\n",
    "preds_raw = []\n",
    "criterion = nn.CrossEntropyLoss()\n",
    "all_labels = np.zeros((len(PlantCLEF2017_test)))\n",
    "wrong_paths = []\n",
    "\n",
    "for i, (images, labels, paths) in tqdm.tqdm(enumerate(PlantCLEF2017_test_loader_vanilla), total=len(PlantCLEF2017_test_loader_vanilla)):\n",
    "\n",
    "    images = images.to(device)\n",
    "    labels = labels.to(device)\n",
    "\n",
    "    with torch.no_grad():\n",
    "        y_preds = model(images)\n",
    "    preds[i * len(images): (i+1) * len(images)] = y_preds.argmax(1).to('cpu').numpy()\n",
    "    all_labels[i * len(images): (i+1) * len(images)] = labels.to('cpu').numpy()\n",
    "\n",
    "    preds_raw.extend(y_preds.to('cpu').numpy())"
   ]
  },
  {
   "cell_type": "code",
   "execution_count": null,
   "metadata": {},
   "outputs": [],
   "source": [
    "PlantCLEF2017_test['vanilla'] = preds_raw\n",
    "PlantCLEF2017_test['vanilla_preds'] = preds\n",
    "vanila_accuracy = accuracy_score(PlantCLEF2017_test['class_id'], PlantCLEF2017_test['vanilla_preds'])\n",
    "    \n",
    "print('Vanila Accuracy:', vanila_accuracy)"
   ]
  },
  {
   "cell_type": "markdown",
   "metadata": {},
   "source": [
    "### Crop 2017"
   ]
  },
  {
   "cell_type": "code",
   "execution_count": null,
   "metadata": {},
   "outputs": [],
   "source": [
    "timecek = time.time()\n",
    "\n",
    "model.to(device)\n",
    "model.eval()\n",
    "\n",
    "preds = np.zeros((len(PlantCLEF2017_test)))\n",
    "preds_raw = []\n",
    "criterion = nn.CrossEntropyLoss()\n",
    "all_labels = np.zeros((len(PlantCLEF2017_test)))\n",
    "wrong_paths = []\n",
    "\n",
    "for i, (images, labels, paths) in tqdm.tqdm(enumerate(PlantCLEF2017_test_loader_crop), total=len(PlantCLEF2017_test_loader_crop)):\n",
    "\n",
    "    images = images.to(device)\n",
    "    labels = labels.to(device)\n",
    "\n",
    "    with torch.no_grad():\n",
    "        y_preds = model(images)\n",
    "    preds[i * len(images): (i+1) * len(images)] = y_preds.argmax(1).to('cpu').numpy()\n",
    "    all_labels[i * len(images): (i+1) * len(images)] = labels.to('cpu').numpy()\n",
    "\n",
    "    preds_raw.extend(y_preds.to('cpu').numpy())"
   ]
  },
  {
   "cell_type": "code",
   "execution_count": null,
   "metadata": {},
   "outputs": [],
   "source": [
    "PlantCLEF2017_test['crop'] = preds_raw\n",
    "PlantCLEF2017_test['crop_preds'] = preds\n",
    "crop_accuracy = accuracy_score(PlantCLEF2017_test['class_id'], PlantCLEF2017_test['crop_preds'])\n",
    "    \n",
    "print('Vanila Accuracy:', crop_accuracy)"
   ]
  },
  {
   "cell_type": "code",
   "execution_count": null,
   "metadata": {},
   "outputs": [],
   "source": [
    "print('Vanila Accuracy:', np.round(vanila_accuracy * 100, 2 ))\n",
    "print('Crop Accuracy:', np.round(crop_accuracy * 100, 2 ))\n"
   ]
  },
  {
   "cell_type": "code",
   "execution_count": null,
   "metadata": {},
   "outputs": [],
   "source": []
  }
 ],
 "metadata": {
  "kernelspec": {
   "display_name": "Python 3 (ipykernel)",
   "language": "python",
   "name": "python3"
  },
  "language_info": {
   "codemirror_mode": {
    "name": "ipython",
    "version": 3
   },
   "file_extension": ".py",
   "mimetype": "text/x-python",
   "name": "python",
   "nbconvert_exporter": "python",
   "pygments_lexer": "ipython3",
   "version": "3.8.12"
  }
 },
 "nbformat": 4,
 "nbformat_minor": 4
}
