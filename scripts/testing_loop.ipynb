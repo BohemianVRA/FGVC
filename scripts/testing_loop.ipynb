{
 "cells": [
  {
   "cell_type": "markdown",
   "metadata": {},
   "source": [
    "### Imports and Jupyter setup"
   ]
  },
  {
   "cell_type": "code",
   "execution_count": 2,
   "metadata": {},
   "outputs": [],
   "source": [
    "import os\n",
    "import torch\n",
    "import wandb\n",
    "import pandas as pd\n",
    "\n",
    "from torch.utils.data import DataLoader\n",
    "\n",
    "os.environ[\"CUDA_VISIBLE_DEVICES\"]=\"0\"\n",
    "device = torch.device('cuda' if torch.cuda.is_available() else 'cpu')"
   ]
  },
  {
   "cell_type": "markdown",
   "metadata": {},
   "source": [
    "### Custom Imports"
   ]
  },
  {
   "cell_type": "code",
   "execution_count": 3,
   "metadata": {},
   "outputs": [],
   "source": [
    "from fgvc.utils.augmentations import test_transforms\n",
    "from fgvc.utils.datasets import TrainDataset, get_dataloader\n",
    "from fgvc.utils.performance import test_loop, test_loop_insights\n",
    "from fgvc.utils.utils import timer, init_logger, seed_everything, getModel\n",
    "from fgvc.utils.wandb import update_wandb_run_test_performance"
   ]
  },
  {
   "cell_type": "markdown",
   "metadata": {},
   "source": [
    "### Load Dataset Metadata"
   ]
  },
  {
   "cell_type": "code",
   "execution_count": 5,
   "metadata": {},
   "outputs": [
    {
     "name": "stdout",
     "output_type": "stream",
     "text": [
      "Number of samples in PlantCLEF2017_test: 25170\n",
      "Number of samples in PlantCLEF2018_test: 6892\n"
     ]
    },
    {
     "name": "stderr",
     "output_type": "stream",
     "text": [
      "/opt/conda/lib/python3.8/site-packages/IPython/core/interactiveshell.py:3165: DtypeWarning: Columns (15,16,17,19,22) have mixed types.Specify dtype option on import or set low_memory=False.\n",
      "  has_raised = await self.run_ast_nodes(code_ast.body, cell_name,\n"
     ]
    }
   ],
   "source": [
    "CKPT_LOCATION = '../experiments/baselines/'\n",
    "\n",
    "train_metadata = pd.read_csv(\"../metadata/PlantCLEF2018_train_metadata.csv\")\n",
    "val_metadata = pd.read_csv(\"../metadata/PlantCLEF2018_val_metadata.csv\")\n",
    "\n",
    "PlantCLEF2017_test = pd.read_csv(\"../metadata/PlantCLEF2017_test_metadata.csv\")\n",
    "PlantCLEF2018_test = pd.read_csv(\"../metadata/PlantCLEF2018_test_metadata.csv\")\n",
    "\n",
    "print(f'Number of samples in PlantCLEF2017_test: {len(PlantCLEF2017_test)}')\n",
    "print(f'Number of observations in PlantCLEF2017_test: {len(PlantCLEF2017_test.ObservationId.unique())}')\n",
    "print(f'Number of samples in PlantCLEF2018_test: {len(PlantCLEF2018_test)}')\n",
    "print(f'Number of observations in PlantCLEF2018_test: {len(PlantCLEF2018_test.ObservationId.unique())}')"
   ]
  },
  {
   "cell_type": "code",
   "execution_count": null,
   "metadata": {},
   "outputs": [],
   "source": [
    "LOCAL_PATH = '/Data-10T/PlantCLEF/'\n",
    "\n",
    "if LOCAL_PATH:\n",
    "    PlantCLEF2017_test['image_path'] = PlantCLEF2017_test['image_path'].apply(lambda x: x.replace('/local/nahouby/Datasets/PlantCLEF/', LOCAL_PATH))\n",
    "    PlantCLEF2018_test['image_path'] = PlantCLEF2018_test['image_path'].apply(lambda x: x.replace('/local/nahouby/Datasets/PlantCLEF/', LOCAL_PATH))"
   ]
  },
  {
   "cell_type": "markdown",
   "metadata": {},
   "source": [
    "### Read WandB runs"
   ]
  },
  {
   "cell_type": "code",
   "execution_count": 6,
   "metadata": {},
   "outputs": [
    {
     "name": "stdout",
     "output_type": "stream",
     "text": [
      "Founnd 19 existing runs.\n"
     ]
    }
   ],
   "source": [
    "api = wandb.Api()\n",
    "entity, project = \"picekl\", \"frontiers-plant-recognition\"  # set to your entity and project \n",
    "runs = api.runs(entity + \"/\" + project)\n",
    "print(f\"Founnd {len(runs)} existing runs.\")"
   ]
  },
  {
   "cell_type": "markdown",
   "metadata": {},
   "source": [
    "### Evaluate All existing runs"
   ]
  },
  {
   "cell_type": "code",
   "execution_count": 7,
   "metadata": {},
   "outputs": [
    {
     "name": "stdout",
     "output_type": "stream",
     "text": [
      "The finished inception_resnet_v2-SGD-plateau-light was found and will be evaluated.\n",
      "Model Loaded and set to Eval mode.\n",
      "Model testing started.\n"
     ]
    },
    {
     "name": "stderr",
     "output_type": "stream",
     "text": [
      "100%|██████████| 1574/1574 [01:36<00:00, 16.37it/s]\n",
      "100%|██████████| 431/431 [00:26<00:00, 16.42it/s]\n"
     ]
    },
    {
     "name": "stdout",
     "output_type": "stream",
     "text": [
      "The finished vit_base_patch16_384-SGD-plateau-light was found and will be evaluated.\n",
      "Model Loaded and set to Eval mode.\n",
      "Model testing started.\n"
     ]
    },
    {
     "name": "stderr",
     "output_type": "stream",
     "text": [
      "100%|██████████| 1574/1574 [02:52<00:00,  9.12it/s]\n",
      "100%|██████████| 431/431 [00:47<00:00,  9.08it/s]\n"
     ]
    }
   ],
   "source": [
    "for run in runs:\n",
    "    if len(run.history()) == 101:\n",
    "        in_progress = False\n",
    "    else:\n",
    "        in_progress = True\n",
    "        \n",
    "    config = run.config\n",
    "    if 'upsampled' in config:\n",
    "        RUN_NAME = f\"{config['architecture']}-{config['optimizer']}-{config['scheduler']}-{config['augmentations']}-{config['upsampled']}\"    \n",
    "    else:\n",
    "        RUN_NAME = f\"{config['architecture']}-{config['optimizer']}-{config['scheduler']}-{config['augmentations']}\"  \n",
    "    \n",
    "    CKPT_PATH = f'{CKPT_LOCATION}/{RUN_NAME}-100E.pth'\n",
    "    \n",
    "    if not in_progress and os.path.isfile(CKPT_PATH) and (\"PlantCLEF2017 | Test Acc. (img.)\" not in run.summary): \n",
    "        print(f'The finished {RUN_NAME} was found and will be evaluated.')\n",
    "        \n",
    "        seed_everything(config['random_seed'])\n",
    "        \n",
    "        # Init Model\n",
    "        model = getModel(config['architecture'], config['number_of_classes'], pretrained=False)\n",
    "        model_mean, model_std = list(model.default_cfg['mean']), list(model.default_cfg['std'])\n",
    "        model.load_state_dict(torch.load(CKPT_PATH))\n",
    "        model.to(device)\n",
    "        model.eval()\n",
    "        \n",
    "        print(f'Model Loaded and set to Eval mode.')\n",
    "        print(f'Model testing started.')\n",
    "        performance_2017 = test_loop(PlantCLEF2017_test, get_dataloader(PlantCLEF2017_test, config, model_mean, model_std), model, device)\n",
    "        performance_2018 = test_loop(PlantCLEF2018_test, get_dataloader(PlantCLEF2018_test, config, model_mean, model_std), model, device)\n",
    "\n",
    "        update_wandb_run_test_performance(run, performance_2017, performance_2018)\n",
    "        \n",
    "        del model"
   ]
  },
  {
   "cell_type": "code",
   "execution_count": null,
   "metadata": {},
   "outputs": [],
   "source": []
  }
 ],
 "metadata": {
  "kernelspec": {
   "display_name": "Python 3 (ipykernel)",
   "language": "python",
   "name": "python3"
  },
  "language_info": {
   "codemirror_mode": {
    "name": "ipython",
    "version": 3
   },
   "file_extension": ".py",
   "mimetype": "text/x-python",
   "name": "python",
   "nbconvert_exporter": "python",
   "pygments_lexer": "ipython3",
   "version": "3.8.12"
  }
 },
 "nbformat": 4,
 "nbformat_minor": 4
}
