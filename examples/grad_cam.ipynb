{
 "cells": [
  {
   "cell_type": "markdown",
   "metadata": {
    "pycharm": {
     "name": "#%% md\n"
    }
   },
   "source": [
    "# Grad CAM examples"
   ]
  },
  {
   "cell_type": "code",
   "execution_count": null,
   "metadata": {},
   "outputs": [],
   "source": [
    "%load_ext autoreload\n",
    "%autoreload 2"
   ]
  },
  {
   "cell_type": "code",
   "execution_count": null,
   "metadata": {
    "collapsed": false,
    "jupyter": {
     "outputs_hidden": false
    },
    "pycharm": {
     "name": "#%%\n"
    }
   },
   "outputs": [],
   "source": [
    "import requests\n",
    "import numpy as np\n",
    "import matplotlib.pyplot as plt\n",
    "from PIL import Image\n",
    "\n",
    "from fgvc.core.models import get_model\n",
    "from fgvc.special.grad_cam import GradCamTimm, plot_grad_cam, plot_heatmap, plot_image_heatmap\n",
    "from fgvc.utils.utils import set_cuda_device\n",
    "\n",
    "IMG_URL = \"https://cdn.pixabay.com/photo/2015/11/16/22/14/cat-1046544_960_720.jpg\"\n",
    "\n",
    "device = set_cuda_device(\"0\")"
   ]
  },
  {
   "cell_type": "markdown",
   "metadata": {
    "pycharm": {
     "name": "#%% md\n"
    }
   },
   "source": [
    "## Input image"
   ]
  },
  {
   "cell_type": "code",
   "execution_count": null,
   "metadata": {},
   "outputs": [],
   "source": [
    "# load image\n",
    "image = np.asarray(Image.open(requests.get(IMG_URL, stream=True).raw).convert(\"RGB\"))\n",
    "\n",
    "# show the image\n",
    "plt.imshow(image)\n",
    "plt.axis(\"off\")\n",
    "plt.show()"
   ]
  },
  {
   "cell_type": "markdown",
   "metadata": {
    "pycharm": {
     "name": "#%% md\n"
    }
   },
   "source": [
    "## Model attention\n",
    "\n",
    "### 1. Select the last convolutional layer automatically (default)\n",
    "\n",
    "- target_layer of GradCamTimm must be None:\n",
    "\n",
    "        grad_cam = GradCamTimm(<timm model>, target_layer=None)  # or just: GradCamTimm(<timm model>)\n",
    "\n",
    "- then you need to call the instance of GradCamTimm to receive the attentions for your image\n",
    "- additionally, you can pass the target_cls as number in range <i>[0, N - 1]</i>, where N is number of classes,\n",
    "  to get attentions. Argmax of the classification head is taken in default\n",
    "\n",
    "        attn = grad_cam(<single image>, target_cls=<None (default) or number in range [0, N - 1]>)\n",
    "\n",
    "- finally, you can visualize the attentions\n",
    "    1. as heatmap with a scale using\n",
    "       <code>grad_cam.visualize_as_heatmap(&lt;subplot ax&gt;, attn)</code>\n",
    "    2. as attention to partial parts of the image using\n",
    "       <code>grad_cam.visualize_as_image(&lt;subplot ax&gt;, attn, &lt;single image&gt;)</code>\n",
    "\n",
    "- besides, you can get:\n",
    "    1. the original features that has been weighted with attention\n",
    "       <code>feats = grad_cam.get_features()</code>\n",
    "    2. gradients that was used for weighting the features\n",
    "       <code>grads = grad_cam.get_gradients()</code>"
   ]
  },
  {
   "cell_type": "code",
   "execution_count": null,
   "metadata": {},
   "outputs": [],
   "source": [
    "# create a model and test-time augmentation\n",
    "model = get_model(\"resnet50\", pretrained=True)\n",
    "\n",
    "# create Grad-CAM instance and get the attentions\n",
    "grad_cam = GradCamTimm(model, device=device)\n",
    "weighted_features, (features, gradients) = grad_cam(image)"
   ]
  },
  {
   "cell_type": "code",
   "execution_count": null,
   "metadata": {},
   "outputs": [],
   "source": [
    "plot_grad_cam(image, model, device=device)"
   ]
  },
  {
   "cell_type": "markdown",
   "metadata": {
    "pycharm": {
     "name": "#%% md\n"
    }
   },
   "source": [
    "### 2. Select the target layer manually\n",
    "\n",
    "- target_layer of GradCamTimm must not be None:\n",
    "\n",
    "        grad_cam = GradCamTimm(<timm model>, target_layer=<required layer>)\n",
    "\n",
    "- you can also set the target_layer using:\n",
    "\n",
    "        grad_cam.set_target_layer(\"<target layer>\")\n",
    "\n",
    "- you can list possible layers typing:\n",
    "\n",
    "        pos_targ_layers = grad_cam.get_possible_target_layers()"
   ]
  },
  {
   "cell_type": "code",
   "execution_count": null,
   "metadata": {
    "collapsed": false,
    "jupyter": {
     "outputs_hidden": false
    },
    "pycharm": {
     "name": "#%%\n"
    }
   },
   "outputs": [],
   "source": [
    "pos_targ_layers = grad_cam.get_possible_target_layers()\n",
    "print(\"Possible target layers for your model:\")\n",
    "[print(f\"- {l}\") for l in pos_targ_layers];"
   ]
  },
  {
   "cell_type": "code",
   "execution_count": null,
   "metadata": {
    "collapsed": false,
    "jupyter": {
     "outputs_hidden": false
    },
    "pycharm": {
     "name": "#%%\n"
    }
   },
   "outputs": [],
   "source": [
    "plot_grad_cam(image, model, device=device, target_layer=\"layer4\")"
   ]
  },
  {
   "cell_type": "code",
   "execution_count": null,
   "metadata": {},
   "outputs": [],
   "source": [
    "plot_grad_cam(image, model, device=device, target_layer=\"layer4\", use_min_zero=False)"
   ]
  },
  {
   "cell_type": "markdown",
   "metadata": {
    "pycharm": {
     "name": "#%% md\n"
    }
   },
   "source": [
    "## Use Different Architectures"
   ]
  },
  {
   "cell_type": "markdown",
   "metadata": {
    "pycharm": {
     "name": "#%% md\n"
    }
   },
   "source": [
    "### ViT"
   ]
  },
  {
   "cell_type": "code",
   "execution_count": null,
   "metadata": {
    "collapsed": false,
    "jupyter": {
     "outputs_hidden": false
    },
    "pycharm": {
     "name": "#%%\n"
    }
   },
   "outputs": [],
   "source": [
    "model = get_model(\"vit_base_patch16_384\", pretrained=True)\n",
    "plot_grad_cam(image, model, device=device, target_layer=\"blocks\")"
   ]
  },
  {
   "cell_type": "code",
   "execution_count": null,
   "metadata": {
    "collapsed": false,
    "jupyter": {
     "outputs_hidden": false
    },
    "pycharm": {
     "name": "#%%\n"
    }
   },
   "outputs": [],
   "source": [
    "model = get_model(\"vit_base_patch8_224\", pretrained=True)\n",
    "plot_grad_cam(image, model, device=device, target_layer=\"blocks\")"
   ]
  },
  {
   "cell_type": "markdown",
   "metadata": {
    "pycharm": {
     "name": "#%% md\n"
    }
   },
   "source": [
    "## SwinT"
   ]
  },
  {
   "cell_type": "code",
   "execution_count": null,
   "metadata": {
    "collapsed": false,
    "jupyter": {
     "outputs_hidden": false
    },
    "pycharm": {
     "name": "#%%\n"
    }
   },
   "outputs": [],
   "source": [
    "model = get_model(\"swin_large_patch4_window12_384\", pretrained=True)\n",
    "plot_grad_cam(image, model, device=device, target_layer=\"layers\")"
   ]
  },
  {
   "cell_type": "code",
   "execution_count": null,
   "metadata": {
    "collapsed": false,
    "jupyter": {
     "outputs_hidden": false
    },
    "pycharm": {
     "name": "#%%\n"
    }
   },
   "outputs": [],
   "source": [
    "model = get_model(\"swin_base_patch4_window7_224_in22k\", pretrained=True)\n",
    "plot_grad_cam(image, model, device=device, target_layer=\"layers\")"
   ]
  },
  {
   "cell_type": "code",
   "execution_count": null,
   "metadata": {},
   "outputs": [],
   "source": []
  }
 ],
 "metadata": {
  "kernelspec": {
   "display_name": "Python 3 (ipykernel)",
   "language": "python",
   "name": "python3"
  },
  "language_info": {
   "codemirror_mode": {
    "name": "ipython",
    "version": 3
   },
   "file_extension": ".py",
   "mimetype": "text/x-python",
   "name": "python",
   "nbconvert_exporter": "python",
   "pygments_lexer": "ipython3",
   "version": "3.8.13"
  }
 },
 "nbformat": 4,
 "nbformat_minor": 4
}
