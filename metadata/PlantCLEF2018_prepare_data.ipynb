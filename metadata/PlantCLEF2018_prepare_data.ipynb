{
 "cells": [
  {
   "cell_type": "code",
   "execution_count": null,
   "metadata": {},
   "outputs": [],
   "source": [
    "import os\n",
    "import tqdm\n",
    "import logging\n",
    "import warnings\n",
    "\n",
    "import numpy as np\n",
    "import pandas as pd\n",
    "import seaborn as sns\n",
    "import matplotlib.pyplot as plt\n",
    "import matplotlib.style as style\n",
    "import xml.etree.ElementTree as et\n",
    "\n",
    "from PIL import Image\n",
    "from sklearn.model_selection import train_test_split\n",
    "from sklearn.preprocessing import MultiLabelBinarizer, LabelBinarizer\n",
    "\n",
    "os.environ[\"CUDA_VISIBLE_DEVICES\"]=\"\"\n",
    "warnings.filterwarnings('ignore')\n",
    "pd.set_option('display.max_columns', None)"
   ]
  },
  {
   "cell_type": "code",
   "execution_count": null,
   "metadata": {},
   "outputs": [],
   "source": [
    "!nvidia-smi"
   ]
  },
  {
   "cell_type": "code",
   "execution_count": null,
   "metadata": {},
   "outputs": [],
   "source": [
    "map_df = pd.read_csv('../../../nahouby/Datasets/PlantCLEF/classid_lifeclef2016_to_classid2017.csv', delimiter=';')\n",
    "map_dict = pd.Series(map_df.ClassId.values ,index=map_df.ClassId_lifeclef2016).to_dict()"
   ]
  },
  {
   "cell_type": "code",
   "execution_count": null,
   "metadata": {},
   "outputs": [],
   "source": [
    "len(map_df.ClassId_lifeclef2016), len(map_df.ClassId)"
   ]
  },
  {
   "cell_type": "markdown",
   "metadata": {},
   "source": [
    "## Parsing 2017 train"
   ]
  },
  {
   "cell_type": "code",
   "execution_count": null,
   "metadata": {},
   "outputs": [],
   "source": [
    "header = ['FileName', 'Species', 'Origin', 'Author', 'Content', 'Genus', 'Family', 'ObservationId', 'MediaId', 'YearInCLEF', 'LearnTag', 'ClassId', 'image_path', 'subset']\n",
    "\n",
    "plantclef2017_train = []\n",
    "xml_paths = []\n",
    "for r, d, f in os.walk('../../../nahouby/Datasets/PlantCLEF/PlantCLEF2017/train/'):\n",
    "    for file in f:\n",
    "        if '.xml' in file and '._' not in file:\n",
    "            try:\n",
    "                try:\n",
    "                    tree = et.parse(os.path.join(r, file))\n",
    "                    root = tree.getroot()\n",
    "                    image_metadata = {}\n",
    "                    for param in root:\n",
    "                        image_metadata[param.tag] = param.text\n",
    "                    image_metadata['image_path'] = os.path.join(r, file.split('.')[0] + '.jpg')\n",
    "                    image_metadata['subset'] = '2017-train'\n",
    "                    plantclef2017_train.append(image_metadata)\n",
    "                except:\n",
    "                    f = open(os.path.join(r, file), \"r\", encoding=\"utf8\")\n",
    "                    metadata = []\n",
    "                    for i, line in enumerate(f.readlines()):\n",
    "                        if i > 1:\n",
    "                            metadata.append(line.split('</')[0].split('>')[-1])\n",
    "                    metadata = metadata[:-1]\n",
    "                    metadata.append(os.path.join(r, file.split('.')[0] + '.jpg'))\n",
    "                    metadata.append('2017-train')\n",
    "                    plantclef2017_train.append(dict(zip(header, metadata)))\n",
    "            except:\n",
    "                print(os.path.join(r, file))\n",
    "                \n",
    "plantclef2017_train = pd.DataFrame.from_dict(plantclef2017_train)\n",
    "plantclef2017_train['ClassId'] = plantclef2017_train['ClassId'].astype(int)"
   ]
  },
  {
   "cell_type": "code",
   "execution_count": null,
   "metadata": {},
   "outputs": [],
   "source": [
    "print(\"# Classes:\", len(plantclef2017_train['ClassId'].unique()))\n",
    "print(\"# Images:\", len(plantclef2017_train))"
   ]
  },
  {
   "cell_type": "markdown",
   "metadata": {},
   "source": [
    "## Parsing 2017 web"
   ]
  },
  {
   "cell_type": "code",
   "execution_count": null,
   "metadata": {},
   "outputs": [],
   "source": [
    "plantclef2017_web = pd.read_csv('../../../nahouby/Datasets/PlantCLEF/PlantCLEF2017TrainWebVeryFinal.csv', sep=';')\n",
    "len(plantclef2017_web)"
   ]
  },
  {
   "cell_type": "code",
   "execution_count": null,
   "metadata": {},
   "outputs": [],
   "source": [
    "label_freq = plantclef2017_train['ClassId'].value_counts().sort_values(ascending=False)\n",
    "\n",
    "samples = []\n",
    "\n",
    "for class_id, count in label_freq[label_freq < 50].iteritems():\n",
    "    sample_size = 50 - count\n",
    "    \n",
    "    class_df = plantclef2017_web[plantclef2017_web['ClassId'] == class_id]\n",
    "    \n",
    "    if len(class_df) > sample_size:\n",
    "        sample = class_df.sample(sample_size, random_state=777)\n",
    "    else:\n",
    "        sample = class_df.sample(len(class_df), random_state=777)\n",
    "    \n",
    "    samples.append(sample)"
   ]
  },
  {
   "cell_type": "code",
   "execution_count": null,
   "metadata": {},
   "outputs": [],
   "source": [
    "# 10 - 15719\n",
    "# 15 - 42202\n",
    "# 20 - 73383\n",
    "# 25 - 106741\n",
    "# 50 - 282622"
   ]
  },
  {
   "cell_type": "code",
   "execution_count": null,
   "metadata": {},
   "outputs": [],
   "source": [
    "tmp = pd.concat(samples)"
   ]
  },
  {
   "cell_type": "code",
   "execution_count": null,
   "metadata": {},
   "outputs": [],
   "source": [
    "tmp['image_path'] = tmp.apply(lambda x: '/local/nahouby/Datasets/PlantCLEF/PlantCLEF2017/web/' + str(x['ClassId']) + '/' + str(x['MediaId']) + '.jpg', axis=1)"
   ]
  },
  {
   "cell_type": "code",
   "execution_count": null,
   "metadata": {},
   "outputs": [],
   "source": [
    "tmp.head(5)"
   ]
  },
  {
   "cell_type": "code",
   "execution_count": null,
   "metadata": {},
   "outputs": [],
   "source": [
    "missing_indexes = []\n",
    "for i, row in tqdm.tqdm(tmp.iterrows(), total = len(tmp)):\n",
    "    if not os.path.exists(row.image_path):\n",
    "        missing_indexes.append(i)"
   ]
  },
  {
   "cell_type": "code",
   "execution_count": null,
   "metadata": {},
   "outputs": [],
   "source": [
    "plantclef2017_web = tmp.drop(missing_indexes)"
   ]
  },
  {
   "cell_type": "markdown",
   "metadata": {},
   "source": [
    "## Parsing 2016 test"
   ]
  },
  {
   "cell_type": "code",
   "execution_count": null,
   "metadata": {},
   "outputs": [],
   "source": [
    "plantclef2016_test = pd.read_csv('PlantCLEF2016MasterFinalNewDataOnly.csv', delimiter=';')\n",
    "\n",
    "plantclef2016_test[\"image_path\"] = plantclef2016_test[\"FileName\"].apply(lambda x: '../../../nahouby/Datasets/PlantCLEF/PlantCLEF2016/PlantCLEF2016Test/' + x)\n",
    "plantclef2016_test = plantclef2016_test.drop(columns=['ImageId2014', 'ObservationId2014'])\n",
    "plantclef2016_test_filtered = plantclef2016_test[plantclef2016_test[\"ClassId\"].isin(map_df['ClassId_lifeclef2016'])]\n",
    "plantclef2016_test_filtered[\"ClassId\"] = plantclef2016_test_filtered[\"ClassId\"].apply(lambda x: map_dict[x])\n",
    "plantclef2016_test_filtered = plantclef2016_test_filtered[plantclef2016_test_filtered[\"ClassId\"].isin(plantclef2017_train['ClassId'].unique())]\n",
    "\n",
    "print(len(plantclef2016_test), len(plantclef2016_test_filtered))\n",
    "print(\"# Classes:\", len(plantclef2016_test_filtered['ClassId'].unique()))\n",
    "print(\"# Images:\", len(plantclef2016_test_filtered))"
   ]
  },
  {
   "cell_type": "markdown",
   "metadata": {},
   "source": [
    "## Parsing 2016 train"
   ]
  },
  {
   "cell_type": "code",
   "execution_count": null,
   "metadata": {},
   "outputs": [],
   "source": [
    "plantclef2016_train = pd.read_csv('PlantCLEF2015MasterFinal.csv', delimiter=';')\n",
    "\n",
    "plantclef2016_train[\"image_path\"] = plantclef2016_train[\"FileName\"].apply(lambda x: '../../nahouby/Datasets/PlantCLEF/PlantCLEF2015/traintest/' + x)\n",
    "plantclef2016_train = plantclef2016_train.drop(columns=['ImageId2014', 'ObservationId2014'])\n",
    "plantclef2016_train_filtered = plantclef2016_train[plantclef2016_train[\"ClassId\"].isin(map_df['ClassId_lifeclef2016'])]\n",
    "plantclef2016_train_filtered[\"ClassId\"] = plantclef2016_train_filtered[\"ClassId\"].apply(lambda x: map_dict[x])\n",
    "plantclef2016_train_filtered = plantclef2016_train_filtered[plantclef2016_train_filtered[\"ClassId\"].isin(plantclef2017_train['ClassId'].unique())]\n",
    "\n",
    "print(len(plantclef2016_train), len(plantclef2016_train_filtered))\n",
    "print(\"# Classes:\", len(plantclef2016_train_filtered['ClassId'].unique()))\n",
    "print(\"# Images:\", len(plantclef2016_train_filtered))"
   ]
  },
  {
   "cell_type": "markdown",
   "metadata": {},
   "source": [
    "## Merge 2016 data "
   ]
  },
  {
   "cell_type": "code",
   "execution_count": null,
   "metadata": {},
   "outputs": [],
   "source": [
    "plantclef2016 = pd.concat([plantclef2016_test_filtered, plantclef2016_train_filtered], ignore_index=True, sort=False)\n",
    "print(\"# Classes:\", len(plantclef2016['ClassId'].unique()))\n",
    "print(\"# Images:\", len(plantclef2016))\n",
    "plantclef2016 = plantclef2016.drop(columns=['Unnamed: 21'])\n",
    "\n",
    "plantclef2016 = plantclef2016.rename(columns={\"Year\": \"YearInCLEF\", \"tags\": \"Content\", \"origin\": \"Origin\", \"family\": \"Family\", \"genus\": \"Genus\", \"species\": \"Species\", \"author\": \"Author\"})\n",
    "plantclef2016.head(1)"
   ]
  },
  {
   "cell_type": "code",
   "execution_count": null,
   "metadata": {},
   "outputs": [],
   "source": [
    "len(plantclef2016_test_filtered), len(plantclef2016_train_filtered), len(plantclef2017_train)"
   ]
  },
  {
   "cell_type": "code",
   "execution_count": null,
   "metadata": {},
   "outputs": [],
   "source": [
    "all_metadata = pd.concat([plantclef2017_train, plantclef2016], ignore_index=True, sort=False)\n",
    "all_metadata.head(3)"
   ]
  },
  {
   "cell_type": "code",
   "execution_count": null,
   "metadata": {},
   "outputs": [],
   "source": [
    "print(\"# Classes:\", len(all_metadata['ClassId'].unique()))\n",
    "print(\"# Images:\", len(all_metadata))"
   ]
  },
  {
   "cell_type": "markdown",
   "metadata": {},
   "source": [
    "## Parsing 2017 test"
   ]
  },
  {
   "cell_type": "code",
   "execution_count": null,
   "metadata": {},
   "outputs": [],
   "source": [
    "plantclef2017_test_metadata = pd.read_csv('PlantCLEF2017OnlyTest.csv', delimiter=';') # names=['ObservationId', 'ClassId', 'set'])"
   ]
  },
  {
   "cell_type": "code",
   "execution_count": null,
   "metadata": {},
   "outputs": [],
   "source": [
    "plantclef2017_test_metadata['image_path'] = plantclef2017_test_metadata.apply(lambda row: '/local/nahouby/Datasets/PlantCLEF/PlantCLEF2017/test/' + str(row.MediaId) + '.jpg', axis=1)"
   ]
  },
  {
   "cell_type": "code",
   "execution_count": null,
   "metadata": {},
   "outputs": [],
   "source": [
    "plantclef2017_test_metadata['class_id'] = [ClassId_2_class_id[int(ClassID)] for ClassID in plantclef2017_test_metadata['ClassId']]"
   ]
  },
  {
   "cell_type": "code",
   "execution_count": null,
   "metadata": {},
   "outputs": [],
   "source": [
    "KO_indexes = []\n",
    "for index, row in plantclef2017_test_metadata.iterrows():\n",
    "    try:\n",
    "        Image.open(row.image_path)\n",
    "    except:\n",
    "        print(row.image_path)\n",
    "        KO_indexes.append(index)"
   ]
  },
  {
   "cell_type": "code",
   "execution_count": null,
   "metadata": {},
   "outputs": [],
   "source": [
    "plantclef2017_test_metadata = plantclef2017_test_metadata.drop(KO_indexes).reset_index().drop(columns=['index'])"
   ]
  },
  {
   "cell_type": "code",
   "execution_count": null,
   "metadata": {},
   "outputs": [],
   "source": [
    "plantclef2017_test_metadata"
   ]
  },
  {
   "cell_type": "code",
   "execution_count": null,
   "metadata": {},
   "outputs": [],
   "source": [
    "print(\"# Classes:\", len(plantclef2017_test_metadata['ClassId'].unique()))\n",
    "print(\"# Images:\", len(plantclef2017_test_metadata))\n",
    "print(\"# Observations:\", len(plantclef2017_test_metadata['ObservationId'].unique()))"
   ]
  },
  {
   "cell_type": "code",
   "execution_count": null,
   "metadata": {},
   "outputs": [],
   "source": [
    "plantclef2017_test_metadata.to_csv(\"PlantCLEF2017_test_metadata.csv\")"
   ]
  },
  {
   "cell_type": "markdown",
   "metadata": {},
   "source": [
    "## Metadata"
   ]
  },
  {
   "cell_type": "code",
   "execution_count": null,
   "metadata": {},
   "outputs": [],
   "source": [
    "# Bar plot\n",
    "label_freq = all_metadata['Species'].value_counts().sort_values(ascending=False)\n",
    "\n",
    "style.use(\"fivethirtyeight\")\n",
    "plt.figure(figsize=(24,100))\n",
    "sns.barplot(y=label_freq.index.values, x=label_freq, order=label_freq.index)\n",
    "plt.title(\"Label frequency\", fontsize=12)\n",
    "plt.xlabel(\"\")\n",
    "plt.xticks(fontsize=6)\n",
    "plt.yticks(fontsize=6)\n",
    "plt.xlim(0, 25)\n",
    "plt.show()\n",
    "print(\"Number of Species in dataset: {}\\n\".format(len(label_freq)))"
   ]
  },
  {
   "cell_type": "code",
   "execution_count": null,
   "metadata": {},
   "outputs": [],
   "source": [
    "# Bar plot\n",
    "label_freq = all_metadata['Genus'].value_counts().sort_values(ascending=False)\n",
    "\n",
    "style.use(\"fivethirtyeight\")\n",
    "plt.figure(figsize=(24,20))\n",
    "sns.barplot(y=label_freq.index.values, x=label_freq, order=label_freq.index)\n",
    "plt.title(\"Label frequency\", fontsize=12)\n",
    "plt.xlabel(\"\")\n",
    "plt.xticks(fontsize=6)\n",
    "plt.yticks(fontsize=6)\n",
    "plt.show()\n",
    "print(\"Number of Genus in dataset: {}\\n\".format(len(label_freq)))"
   ]
  },
  {
   "cell_type": "code",
   "execution_count": null,
   "metadata": {},
   "outputs": [],
   "source": [
    "# Bar plot\n",
    "label_freq = all_metadata['Family'].value_counts().sort_values(ascending=False)\n",
    "\n",
    "style.use(\"fivethirtyeight\")\n",
    "plt.figure(figsize=(24,20))\n",
    "sns.barplot(y=label_freq.index.values, x=label_freq, order=label_freq.index)\n",
    "plt.title(\"Label frequency\", fontsize=12)\n",
    "plt.xlabel(\"\")\n",
    "plt.xticks(fontsize=6)\n",
    "plt.yticks(fontsize=6)\n",
    "plt.show()\n",
    "print(\"Number of Family in dataset: {}\\n\".format(len(label_freq)))"
   ]
  },
  {
   "cell_type": "code",
   "execution_count": null,
   "metadata": {},
   "outputs": [],
   "source": [
    "from sklearn.preprocessing import LabelBinarizer\n",
    "\n",
    "print(\"\\n Species Labels:\")\n",
    "lb_species = LabelBinarizer()\n",
    "lb_species.fit(np.asarray(all_metadata['Species']))\n",
    "# Loop over all labels and show them\n",
    "N_LABELS = len(lb_species.classes_)\n",
    "#for (i, label) in enumerate(lb_species.classes_):\n",
    "#    print(\"{}. {}\".format(i, label))\n",
    "\n",
    "print(\"\\n Genus Labels:\")\n",
    "lb_genus = LabelBinarizer()\n",
    "lb_genus.fit(np.asarray(all_metadata['Genus']))\n",
    "# Loop over all labels and show them\n",
    "N_LABELS = len(lb_genus.classes_)\n",
    "#for (i, label) in enumerate(lb_genus.classes_):\n",
    "#    print(\"{}. {}\".format(i, label))\n",
    "    \n",
    "print(\"\\n Family Labels:\")\n",
    "lb_family = LabelBinarizer()\n",
    "lb_family.fit(np.asarray(all_metadata['Family']))\n",
    "# Loop over all labels and show them\n",
    "N_LABELS = len(lb_family.classes_)\n",
    "#for (i, label) in enumerate(lb_family.classes_):\n",
    "#    print(\"{}. {}\".format(i, label))"
   ]
  },
  {
   "cell_type": "code",
   "execution_count": null,
   "metadata": {},
   "outputs": [],
   "source": [
    "all_metadata['class_id'] = all_metadata.apply(lambda row: np.where(lb_species.classes_ == row['Species'])[0][0], axis=1)\n",
    "all_metadata['family_id'] = all_metadata.apply(lambda row: np.where(lb_family.classes_ == row['Family'])[0][0], axis=1)\n",
    "all_metadata['genus_id'] = all_metadata.apply(lambda row: np.where(lb_genus.classes_ == row['Genus'])[0][0], axis=1)\n",
    "\n",
    "all_metadata.head(4)"
   ]
  },
  {
   "cell_type": "code",
   "execution_count": null,
   "metadata": {},
   "outputs": [],
   "source": [
    "plantclef2017_web['class_id'] = plantclef2017_web.apply(lambda row: np.where(lb_species.classes_ == row['Species'])[0][0], axis=1)\n",
    "plantclef2017_web['family_id'] = plantclef2017_web.apply(lambda row: np.where(lb_family.classes_ == row['Family'])[0][0], axis=1)\n",
    "plantclef2017_web['genus_id'] = plantclef2017_web.apply(lambda row: np.where(lb_genus.classes_ == row['Genus'])[0][0], axis=1)\n",
    "\n",
    "plantclef2017_web.head(4)"
   ]
  },
  {
   "cell_type": "code",
   "execution_count": null,
   "metadata": {},
   "outputs": [],
   "source": [
    "train_metadata, val_metadata = train_test_split(all_metadata, test_size=0.1, random_state=1, stratify=all_metadata['ClassId'])"
   ]
  },
  {
   "cell_type": "code",
   "execution_count": null,
   "metadata": {},
   "outputs": [],
   "source": [
    "len(train_metadata), len(val_metadata), len(plantclef2017_web)"
   ]
  },
  {
   "cell_type": "code",
   "execution_count": null,
   "metadata": {},
   "outputs": [],
   "source": [
    "missing_val = set(train_metadata['ClassId'].unique()) - set(val_metadata['ClassId'].unique())\n",
    "len(missing_val)"
   ]
  },
  {
   "cell_type": "code",
   "execution_count": null,
   "metadata": {},
   "outputs": [],
   "source": [
    "missing_val_samples = train_metadata[train_metadata['ClassId'].isin(missing_val)]\n",
    "missing_val_samples = missing_val_samples.groupby('ClassId', as_index=False).sample(1)\n",
    "remove_from_train = missing_val_samples.index\n",
    "all_val_metadata = pd.concat([val_metadata, missing_val_samples], ignore_index=True, sort=False)"
   ]
  },
  {
   "cell_type": "code",
   "execution_count": null,
   "metadata": {},
   "outputs": [],
   "source": [
    "train_metadata_v2 = train_metadata.drop(remove_from_train)\n",
    "train_metadata_v2 = train_metadata_v2.reset_index()"
   ]
  },
  {
   "cell_type": "code",
   "execution_count": null,
   "metadata": {},
   "outputs": [],
   "source": [
    "print(\"# Classes:\", len(train_metadata_v2['ClassId'].unique()))\n",
    "print(\"# Images:\", len(train_metadata_v2))\n",
    "\n",
    "print(\"# Classes:\", len(all_val_metadata['ClassId'].unique()))\n",
    "print(\"# Images:\", len(all_val_metadata))"
   ]
  },
  {
   "cell_type": "code",
   "execution_count": null,
   "metadata": {},
   "outputs": [],
   "source": [
    "# Overlap test!\n",
    "len(set(all_val_metadata['MediaId']) - set(train_metadata_v2['MediaId'])), len(set(train_metadata_v2['MediaId']) - set(all_val_metadata['MediaId']))"
   ]
  },
  {
   "cell_type": "code",
   "execution_count": null,
   "metadata": {},
   "outputs": [],
   "source": [
    "print(\"Final number of image samples:\", len(all_val_metadata))\n",
    "\n",
    "all_val_metadata.to_csv(\"PlantCLEF2018_val_metadata.csv\")"
   ]
  },
  {
   "cell_type": "code",
   "execution_count": null,
   "metadata": {},
   "outputs": [],
   "source": [
    "print(\"Final number of image smaples:\", len(train_metadata_v2))\n",
    "\n",
    "train_metadata_v2.to_csv(\"PlantCLEF2018_train_metadata.csv\")"
   ]
  },
  {
   "cell_type": "code",
   "execution_count": null,
   "metadata": {},
   "outputs": [],
   "source": [
    "print(\"Final number of web smaples:\", len(plantclef2017_web))\n",
    "\n",
    "train_metadata_v2.to_csv(\"PlantCLEF2018_web_metadata.csv\")"
   ]
  },
  {
   "cell_type": "code",
   "execution_count": null,
   "metadata": {},
   "outputs": [],
   "source": [
    "train_metadata_v2[train_metadata_v2['image_path'].isnull()]"
   ]
  },
  {
   "cell_type": "code",
   "execution_count": null,
   "metadata": {},
   "outputs": [],
   "source": [
    "all_val_metadata[all_val_metadata['image_path'].isnull()]"
   ]
  },
  {
   "cell_type": "markdown",
   "metadata": {},
   "source": [
    "## Parsing 2018 test"
   ]
  },
  {
   "cell_type": "code",
   "execution_count": null,
   "metadata": {},
   "outputs": [],
   "source": [
    "map_df = pd.read_csv('../../nahouby/Datasets/PlantCLEF/PlantCLEF2018/gt_file.csv', delimiter=';', names=['ObservationId', 'ClassId', 'set'])\n",
    "map_df"
   ]
  },
  {
   "cell_type": "code",
   "execution_count": null,
   "metadata": {},
   "outputs": [],
   "source": [
    "observation_2_ClassId = dict(zip(map_df.ObservationId, map_df.ClassId))\n",
    "ClassId_2_class_id = dict(zip(train_metadata_v2.ClassId, train_metadata_v2.class_id))"
   ]
  },
  {
   "cell_type": "code",
   "execution_count": null,
   "metadata": {},
   "outputs": [],
   "source": [
    "plantclef2018_test = []\n",
    "xml_paths = []\n",
    "for r, d, f in os.walk('../../nahouby/Datasets/PlantCLEF/PlantCLEF2018/test/'):\n",
    "    for file in f:\n",
    "        if '.xml' in file and '._' not in file:\n",
    "            #try:\n",
    "                \n",
    "                tree = et.parse(os.path.join(r, file))\n",
    "                root = tree.getroot()\n",
    "                image_metadata = {}\n",
    "                observation_id = None\n",
    "                for param in root:\n",
    "                    image_metadata[param.tag] = param.text\n",
    "                    if param.tag == 'ObservationId':\n",
    "                        observation_id = param.text  \n",
    "                image_metadata['image_path'] = os.path.join(r, file.split('.')[0] + '.jpg')\n",
    "                image_metadata['ClassId'] = observation_2_ClassId[int(observation_id)]\n",
    "                image_metadata['class_id'] = ClassId_2_class_id[observation_2_ClassId[int(observation_id)]]\n",
    "                plantclef2018_test.append(image_metadata)\n",
    "            #except:\n",
    "                #print(os.path.join(r, file))\n",
    "                \n",
    "plantclef2018_test = pd.DataFrame.from_dict(plantclef2018_test)"
   ]
  },
  {
   "cell_type": "code",
   "execution_count": null,
   "metadata": {},
   "outputs": [],
   "source": [
    "print(\"# Classes:\", len(plantclef2018_test['ClassId'].unique()))\n",
    "print(\"# Images:\", len(plantclef2018_test))"
   ]
  },
  {
   "cell_type": "code",
   "execution_count": null,
   "metadata": {},
   "outputs": [],
   "source": [
    "# Bar plot\n",
    "label_freq = plantclef2018_test['class_id'].astype(str).value_counts().sort_values(ascending=False)\n",
    "\n",
    "style.use(\"fivethirtyeight\")\n",
    "plt.figure(figsize=(24,200))\n",
    "sns.barplot(y=label_freq.index.values, x=label_freq, order=label_freq.index)\n",
    "plt.title(\"Label frequency\", fontsize=12)\n",
    "plt.xlabel(\"\")\n",
    "plt.xticks(fontsize=24)\n",
    "plt.yticks(fontsize=12)\n",
    "#plt.xlim(0, 25)\n",
    "plt.show()\n",
    "print(\"Number of Species in test dataset: {}\\n\".format(len(label_freq)))"
   ]
  },
  {
   "cell_type": "code",
   "execution_count": null,
   "metadata": {},
   "outputs": [],
   "source": [
    "plantclef2018_test.to_csv(\"PlantCLEF2018_test_metadata.csv\")"
   ]
  },
  {
   "cell_type": "markdown",
   "metadata": {},
   "source": [
    "# 2018 Train"
   ]
  },
  {
   "cell_type": "code",
   "execution_count": null,
   "metadata": {},
   "outputs": [],
   "source": [
    "plantclef2018_train = []\n",
    "import glob\n",
    "images = glob.glob('/mnt/datagrid/plants/plants/PlantCLEF/2017_web_from_tfrecord/*/*.*')"
   ]
  },
  {
   "cell_type": "code",
   "execution_count": null,
   "metadata": {},
   "outputs": [],
   "source": [
    "ClassId_2_class_id = dict(zip(train_metadata_v2.ClassId, train_metadata_v2.class_id))"
   ]
  },
  {
   "cell_type": "code",
   "execution_count": null,
   "metadata": {},
   "outputs": [],
   "source": [
    "for image in images:\n",
    "    \n",
    "    img_name = image.split('/')[-1]\n",
    "    ClassId = image.split('/')[-2]\n",
    "    path = image\n",
    "\n",
    "    plantclef2018_train.append({'img_name': img_name,\n",
    "                               'ClassId': ClassId,\n",
    "                                'class_id': ClassId_2_class_id[int(ClassId)],\n",
    "                               'image_path': path})"
   ]
  },
  {
   "cell_type": "code",
   "execution_count": null,
   "metadata": {},
   "outputs": [],
   "source": [
    "plantclef2018_train = pd.DataFrame(plantclef2018_train)\n",
    "len(plantclef2018_train.class_id.unique()), len(plantclef2018_train)"
   ]
  },
  {
   "cell_type": "code",
   "execution_count": null,
   "metadata": {},
   "outputs": [],
   "source": [
    "label_freq = all_metadata['class_id'].value_counts().sort_values(ascending=False)\n",
    "\n",
    "lbls20 = label_freq[label_freq <= 19]\n",
    "print(len(lbls20))"
   ]
  },
  {
   "cell_type": "code",
   "execution_count": null,
   "metadata": {},
   "outputs": [],
   "source": []
  },
  {
   "cell_type": "code",
   "execution_count": null,
   "metadata": {},
   "outputs": [],
   "source": [
    "len(plantclef2018_train.class_id.unique()), plantclef2018_train.class_id.unique()"
   ]
  },
  {
   "cell_type": "code",
   "execution_count": null,
   "metadata": {},
   "outputs": [],
   "source": [
    "plantclef2018_train_subset = plantclef2018_train[plantclef2018_train['class_id'].isin(lbls20.index)]\n",
    "\n",
    "print(len(plantclef2018_train_subset))"
   ]
  },
  {
   "cell_type": "code",
   "execution_count": null,
   "metadata": {},
   "outputs": [],
   "source": [
    "print(len(plantclef2018_train_subset.class_id.unique()))"
   ]
  },
  {
   "cell_type": "code",
   "execution_count": null,
   "metadata": {},
   "outputs": [],
   "source": [
    "# Bar plot\n",
    "label_freq = plantclef2018_train_subset['class_id'].astype(str).value_counts().sort_values(ascending=False)\n",
    "\n",
    "style.use(\"fivethirtyeight\")\n",
    "plt.figure(figsize=(24,200))\n",
    "sns.barplot(y=label_freq.index.values, x=label_freq, order=label_freq.index)\n",
    "plt.title(\"Label frequency\", fontsize=12)\n",
    "plt.xlabel(\"\")\n",
    "plt.xticks(fontsize=24)\n",
    "plt.yticks(fontsize=12)\n",
    "#plt.xlim(0, 25)\n",
    "plt.show()\n",
    "print(\"Number of Species in test dataset: {}\\n\".format(len(label_freq)))"
   ]
  },
  {
   "cell_type": "code",
   "execution_count": null,
   "metadata": {},
   "outputs": [],
   "source": [
    "metadata_all = pd.concat([all_val_metadata, train_metadata_v2], ignore_index=True, sort=False)"
   ]
  },
  {
   "cell_type": "code",
   "execution_count": null,
   "metadata": {},
   "outputs": [],
   "source": [
    "plantclef2018_train"
   ]
  },
  {
   "cell_type": "code",
   "execution_count": null,
   "metadata": {},
   "outputs": [],
   "source": [
    "plantclef2018_test[plantclef2018_test['MediaId'] == str(2876963)]"
   ]
  }
 ],
 "metadata": {
  "kernelspec": {
   "display_name": "Python 3",
   "language": "python",
   "name": "python3"
  },
  "language_info": {
   "codemirror_mode": {
    "name": "ipython",
    "version": 3
   },
   "file_extension": ".py",
   "mimetype": "text/x-python",
   "name": "python",
   "nbconvert_exporter": "python",
   "pygments_lexer": "ipython3",
   "version": "3.8.8"
  }
 },
 "nbformat": 4,
 "nbformat_minor": 4
}
